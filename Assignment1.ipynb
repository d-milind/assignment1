{
 "cells": [
  {
   "cell_type": "code",
   "execution_count": 46,
   "metadata": {},
   "outputs": [
    {
     "name": "stdout",
     "output_type": "stream",
     "text": [
      "[2002, 2009, 2016, 2023, 2037, 2044, 2051, 2058, 2072, 2079, 2086, 2093, 2107, 2114, 2121, 2128, 2142, 2149, 2156, 2163, 2177, 2184, 2191, 2198, 2212, 2219, 2226, 2233, 2247, 2254, 2261, 2268, 2282, 2289, 2296, 2303, 2317, 2324, 2331, 2338, 2352, 2359, 2366, 2373, 2387, 2394, 2401, 2408, 2422, 2429, 2436, 2443, 2457, 2464, 2471, 2478, 2492, 2499, 2506, 2513, 2527, 2534, 2541, 2548, 2562, 2569, 2576, 2583, 2597, 2604, 2611, 2618, 2632, 2639, 2646, 2653, 2667, 2674, 2681, 2688, 2702, 2709, 2716, 2723, 2737, 2744, 2751, 2758, 2772, 2779, 2786, 2793, 2807, 2814, 2821, 2828, 2842, 2849, 2856, 2863, 2877, 2884, 2891, 2898, 2912, 2919, 2926, 2933, 2947, 2954, 2961, 2968, 2982, 2989, 2996, 3003, 3017, 3024, 3031, 3038, 3052, 3059, 3066, 3073, 3087, 3094, 3101, 3108, 3122, 3129, 3136, 3143, 3157, 3164, 3171, 3178, 3192, 3199]\n"
     ]
    }
   ],
   "source": [
    "#Assignment 1 Task 1.1\n",
    "\n",
    "nums=[]\n",
    "for x in range(2000, 3201):\n",
    "    if (x%7==0) and (x%5!=0):\n",
    "        nums.append((x),)\n",
    "print(nums)\n"
   ]
  },
  {
   "cell_type": "code",
   "execution_count": 47,
   "metadata": {},
   "outputs": [
    {
     "name": "stdout",
     "output_type": "stream",
     "text": [
      "First name : Milind\n",
      "Last name : Diwane\n",
      "Reverse order with a space between first name and last name : dniliM enawiD\n"
     ]
    }
   ],
   "source": [
    "#Assignment 1 Task 1.2\n",
    "\n",
    "fname=input(\"First name : \")\n",
    "lname=input(\"Last name : \")\n",
    "\n",
    "print(\"Reverse order with a space between first name and last name : \"+fname[::-1]+\" \"+lname[::-1])\n"
   ]
  },
  {
   "cell_type": "code",
   "execution_count": 9,
   "metadata": {},
   "outputs": [
    {
     "name": "stdout",
     "output_type": "stream",
     "text": [
      "Please enter the diameter of your sphere in cms : 12\n",
      "The volume of your sphere with diameter 12.0 is : 905.142857142857 cm3\n"
     ]
    }
   ],
   "source": [
    "#Assignment 1 Task 1.3\n",
    "\n",
    "#Find Volume of the sphere by given diameter :\n",
    "diameter=float(input(\"Please enter the diameter of your sphere in cms : \"))\n",
    "radius=diameter/2\n",
    "pi=22/7\n",
    "volume=4/3*pi*radius**3\n",
    "print(\"The volume of your sphere with diameter \" +str(diameter) + \" is : \"+str(volume) +\" cm3\")"
   ]
  },
  {
   "cell_type": "code",
   "execution_count": 48,
   "metadata": {},
   "outputs": [
    {
     "name": "stdout",
     "output_type": "stream",
     "text": [
      "Please enter comma-separated numbers :1,23,344,56\n",
      "Generated list :  [1, 23, 344, 56]\n"
     ]
    }
   ],
   "source": [
    "#Assignment 1 Task 1.4\n",
    "\n",
    "'''Write a program which accepts a sequence of comma-separated numbers from console and\n",
    "generate a list.'''\n",
    "\n",
    "numberString=input(\"Please enter comma-separated numbers :\")\n",
    "numberString=numberString.split(\",\")\n",
    "listOfNumbers=[]\n",
    "for i in numberString:\n",
    "    listOfNumbers.append(int(i))\n",
    "print(\"Generated list : \",listOfNumbers)\n",
    "\n"
   ]
  },
  {
   "cell_type": "code",
   "execution_count": 45,
   "metadata": {},
   "outputs": [
    {
     "name": "stdout",
     "output_type": "stream",
     "text": [
      "Entr nums : 5\n",
      "* \n",
      "* * \n",
      "* * * \n",
      "* * * * \n",
      "* * * * * \n",
      "* * * * \n",
      "* * * \n",
      "* * \n",
      "* \n",
      "\n"
     ]
    }
   ],
   "source": [
    "#Assignment 1 Task 1.5\n",
    "\n",
    "nums = input(\"Entr nums : \")\n",
    "nums = int(nums)\n",
    "#nums=5\n",
    "for i in range(0, nums):\n",
    "    for j in range(0, i + 1):\n",
    "        print(\"*\", end=' ')\n",
    "    print(\"\\r\")\n",
    "\n",
    "for i in range(nums, 0, -1):\n",
    "    for j in range(0, i - 1):\n",
    "        print(\"*\", end=' ')\n",
    "    print(\"\\r\")"
   ]
  },
  {
   "cell_type": "code",
   "execution_count": 51,
   "metadata": {},
   "outputs": [
    {
     "name": "stdout",
     "output_type": "stream",
     "text": [
      "Please enter a word : Milind\n",
      "dniliM\n"
     ]
    }
   ],
   "source": [
    "#Assignment 1 Task 1.6\n",
    "#Write a Python program to reverse a word after accepting the input from the user.\n",
    "word=input(\"Please enter a word : \")\n",
    "print(word[::-1])\n"
   ]
  },
  {
   "cell_type": "code",
   "execution_count": 52,
   "metadata": {},
   "outputs": [],
   "source": [
    "#Assignment 1 Task 1.7\n",
    "'''For capital alphabets 65 – 90\n",
    "For small alphabets 97 – 122\n",
    "For digits 48 – 57'''\n",
    "\n",
    "statement='''WE, THE PEOPLE OF INDIA, having solemnly resolved to constitute India into a\n",
    "SOVEREIGN, SOCIALIST, SECULAR, DEMOCRATIC REPUBLIC and to secure to all\n",
    "its citizens'''\n",
    "\n",
    "for i in statement:\n",
    "    count=0\n",
    "    j=statement[count+1]\n",
    "    if ((int(ord(i)) >= 65 and int(ord(j)) >= 90) ):\n",
    "        print (i)      \n"
   ]
  },
  {
   "cell_type": "code",
   "execution_count": null,
   "metadata": {},
   "outputs": [],
   "source": []
  }
 ],
 "metadata": {
  "kernelspec": {
   "display_name": "Python 3",
   "language": "python",
   "name": "python3"
  },
  "language_info": {
   "codemirror_mode": {
    "name": "ipython",
    "version": 3
   },
   "file_extension": ".py",
   "mimetype": "text/x-python",
   "name": "python",
   "nbconvert_exporter": "python",
   "pygments_lexer": "ipython3",
   "version": "3.7.6"
  }
 },
 "nbformat": 4,
 "nbformat_minor": 4
}
